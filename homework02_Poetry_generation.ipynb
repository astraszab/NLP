{
 "cells": [
  {
   "cell_type": "markdown",
   "metadata": {},
   "source": [
    "## Homework №2"
   ]
  },
  {
   "cell_type": "markdown",
   "metadata": {},
   "source": [
    "### Almost Shakespeare\n",
    "\n",
    "Let's try to generate some Shakespeare poetry using RNNs. The sonnets file is available in the notebook directory.\n",
    "\n",
    "Text generation can be designed in several steps:\n",
    "    \n",
    "1. Data loading.\n",
    "2. Dictionary generation.\n",
    "3. Data preprocessing.\n",
    "4. Model (neural network) training.\n",
    "5. Text generation (model evaluation).\n"
   ]
  },
  {
   "cell_type": "markdown",
   "metadata": {},
   "source": [
    "### Data loading"
   ]
  },
  {
   "cell_type": "markdown",
   "metadata": {},
   "source": [
    "Shakespeare sonnets are awailable at this [link](http://www.gutenberg.org/ebooks/1041?msg=welcome_stranger). In addition, they are stored in the same directory as this notebook (`sonnetes.txt`).\n",
    "\n",
    "Simple preprocessing is already done for you in the next cell: all technical info is dropped."
   ]
  },
  {
   "cell_type": "code",
   "execution_count": 1,
   "metadata": {},
   "outputs": [],
   "source": [
    "import string\n",
    "import torch\n",
    "import torch.nn as nn\n",
    "import seaborn as sns\n",
    "import numpy as np\n",
    "import matplotlib.pyplot as plt\n",
    "\n",
    "from IPython.display import clear_output"
   ]
  },
  {
   "cell_type": "code",
   "execution_count": 2,
   "metadata": {
    "scrolled": true
   },
   "outputs": [
    {
     "name": "stdout",
     "output_type": "stream",
     "text": [
      "File ‘sonnets.txt’ already there; not retrieving.\r\n",
      "\r\n"
     ]
    }
   ],
   "source": [
    "try:\n",
    "    with open('../../datasets/Shakespeare_sonnets/sonnets.txt', 'r') as iofile:\n",
    "        text = iofile.readlines()\n",
    "except FileNotFoundError:\n",
    "    !wget https://raw.githubusercontent.com/neychev/made_nlp_course/master/datasets/Shakespeare_sonnets/sonnets.txt -nc\n",
    "    with open('sonnets.txt', 'r') as iofile:\n",
    "        lines = iofile.readlines()"
   ]
  },
  {
   "cell_type": "code",
   "execution_count": 3,
   "metadata": {},
   "outputs": [],
   "source": [
    "TEXT_START = 45\n",
    "TEXT_END = -368\n",
    "lines = lines[TEXT_START : TEXT_END]\n",
    "assert len(lines) == 2616"
   ]
  },
  {
   "cell_type": "markdown",
   "metadata": {},
   "source": [
    "In opposite to the in-class practice, this time we want to predict complex text. Let's reduce the complexity of the task and lowercase all the symbols.\n",
    "\n",
    "Now variable `text` is a list of strings. Join all the strings into one and lowercase it."
   ]
  },
  {
   "cell_type": "code",
   "execution_count": 4,
   "metadata": {},
   "outputs": [
    {
     "name": "stdout",
     "output_type": "stream",
     "text": [
      "OK!\n"
     ]
    }
   ],
   "source": [
    "# Join all the strings into one and lowercase it\n",
    "# Put result into variable text.\n",
    "\n",
    "lines = [line.lower() for line in lines]\n",
    "text = ''.join(lines)\n",
    "\n",
    "assert len(text) == 100225, 'Are you sure you have concatenated all the strings?'\n",
    "assert not any([x in set(text) for x in string.ascii_uppercase]), 'Uppercase letters are present'\n",
    "print('OK!')"
   ]
  },
  {
   "cell_type": "markdown",
   "metadata": {},
   "source": [
    "Put all the characters, that you've seen in the text, into variable `tokens`."
   ]
  },
  {
   "cell_type": "code",
   "execution_count": 5,
   "metadata": {},
   "outputs": [],
   "source": [
    "PADDING = '\\a'\n",
    "tokens = sorted(set(text) | {PADDING})"
   ]
  },
  {
   "cell_type": "markdown",
   "metadata": {},
   "source": [
    "Create dictionary `token_to_idx = {<char>: <index>}` and dictionary `idx_to_token = {<index>: <char>}`"
   ]
  },
  {
   "cell_type": "code",
   "execution_count": 6,
   "metadata": {},
   "outputs": [],
   "source": [
    "# dict <index>:<char>\n",
    "token_to_idx = {char: index for index, char in enumerate(tokens)}\n",
    "\n",
    "# dict <char>:<index>\n",
    "idx_to_token = {token_to_idx[char]: char for char in token_to_idx}"
   ]
  },
  {
   "cell_type": "code",
   "execution_count": 7,
   "metadata": {},
   "outputs": [],
   "source": [
    "num_tokens = len(token_to_idx)"
   ]
  },
  {
   "cell_type": "markdown",
   "metadata": {},
   "source": [
    "*Comment: in this task we have only 38 different tokens, so let's use one-hot encoding.*"
   ]
  },
  {
   "cell_type": "markdown",
   "metadata": {},
   "source": [
    "### Converting lines to tokens"
   ]
  },
  {
   "cell_type": "code",
   "execution_count": 8,
   "metadata": {},
   "outputs": [
    {
     "data": {
      "text/plain": [
       "Text(0.5, 1.0, 'Lines length distribution')"
      ]
     },
     "execution_count": 8,
     "metadata": {},
     "output_type": "execute_result"
    },
    {
     "data": {
      "image/png": "[encoded data removed]",
      "text/plain": [
       "<Figure size 432x288 with 1 Axes>"
      ]
     },
     "metadata": {
      "needs_background": "light"
     },
     "output_type": "display_data"
    }
   ],
   "source": [
    "sns.distplot(list(map(len, lines))).set_title('Lines length distribution')"
   ]
  },
  {
   "cell_type": "code",
   "execution_count": 9,
   "metadata": {},
   "outputs": [],
   "source": [
    "lines = list(filter(lambda line: len(line) > 30, lines))"
   ]
  },
  {
   "cell_type": "code",
   "execution_count": 10,
   "metadata": {},
   "outputs": [
    {
     "data": {
      "text/plain": [
       "['  from fairest creatures we desire increase,\\n',\n",
       " \"  that thereby beauty's rose might never die,\\n\",\n",
       " '  but as the riper should by time decease,\\n',\n",
       " '  his tender heir might bear his memory:\\n',\n",
       " '  but thou, contracted to thine own bright eyes,\\n']"
      ]
     },
     "execution_count": 10,
     "metadata": {},
     "output_type": "execute_result"
    }
   ],
   "source": [
    "lines[:5]"
   ]
  },
  {
   "cell_type": "code",
   "execution_count": 11,
   "metadata": {},
   "outputs": [
    {
     "data": {
      "text/plain": [
       "63"
      ]
     },
     "execution_count": 11,
     "metadata": {},
     "output_type": "execute_result"
    }
   ],
   "source": [
    "MAX_LENGTH = max(map(len, lines))\n",
    "MAX_LENGTH"
   ]
  },
  {
   "cell_type": "code",
   "execution_count": 12,
   "metadata": {},
   "outputs": [],
   "source": [
    "def add_padding(line):\n",
    "    return line + PADDING * (MAX_LENGTH - len(line))\n",
    "\n",
    "lines = list(map(add_padding, lines))"
   ]
  },
  {
   "cell_type": "code",
   "execution_count": 13,
   "metadata": {},
   "outputs": [],
   "source": [
    "def to_index(line):\n",
    "    return [token_to_idx[char] for char in line]\n",
    "\n",
    "idx_lines = np.array(list(map(to_index, lines)))"
   ]
  },
  {
   "cell_type": "code",
   "execution_count": 14,
   "metadata": {},
   "outputs": [
    {
     "data": {
      "text/plain": [
       "array([[ 2,  2, 18, ...,  0,  0,  0],\n",
       "       [ 2,  2, 32, ...,  0,  0,  0],\n",
       "       [ 2,  2, 14, ...,  0,  0,  0],\n",
       "       ...,\n",
       "       [ 2,  2, 18, ...,  0,  0,  0],\n",
       "       [ 2,  2,  2, ...,  0,  0,  0],\n",
       "       [ 2,  2,  2, ...,  0,  0,  0]])"
      ]
     },
     "execution_count": 14,
     "metadata": {},
     "output_type": "execute_result"
    }
   ],
   "source": [
    "idx_lines"
   ]
  },
  {
   "cell_type": "code",
   "execution_count": 15,
   "metadata": {},
   "outputs": [],
   "source": [
    "def get_batch(size):\n",
    "    random_idx = np.random.choice(np.arange(0, idx_lines.shape[0]), size=size)\n",
    "    return torch.tensor(idx_lines[random_idx, :], dtype=int)"
   ]
  },
  {
   "cell_type": "markdown",
   "metadata": {},
   "source": [
    "### Building the model"
   ]
  },
  {
   "cell_type": "markdown",
   "metadata": {},
   "source": [
    "Now we want to build and train recurrent neural net which would be able to something similar to Shakespeare's poetry.\n",
    "\n",
    "Let's use vanilla RNN, similar to the one created during the lesson."
   ]
  },
  {
   "cell_type": "code",
   "execution_count": 16,
   "metadata": {},
   "outputs": [],
   "source": [
    "class VanillaRNN(nn.Module):\n",
    "    def __init__(self, num_embeddings=num_tokens, embedding_dim=16, hidden_state_dim=256):\n",
    "        super().__init__()\n",
    "        self.hidden_state_dim = hidden_state_dim\n",
    "        self.emb = nn.Embedding(num_embeddings, embedding_dim)\n",
    "        self.recurrent_dense = nn.Linear(hidden_state_dim + embedding_dim, hidden_state_dim)\n",
    "        self.hidden_to_logits = nn.Linear(hidden_state_dim, num_embeddings)\n",
    "    \n",
    "    def forward(self, x, hidden_state):\n",
    "        x = self.emb(x)\n",
    "        next_hidden = torch.tanh(self.recurrent_dense(torch.cat((hidden_state, x), dim=1)))\n",
    "        logits = self.hidden_to_logits(next_hidden)\n",
    "        return next_hidden, logits\n",
    "    \n",
    "    def initial_state(self, batch_size):\n",
    "        return torch.zeros((batch_size, self.hidden_state_dim), \n",
    "                           dtype=torch.float32, requires_grad=True)"
   ]
  },
  {
   "cell_type": "code",
   "execution_count": 17,
   "metadata": {},
   "outputs": [],
   "source": [
    "def RNNLoop(rnn, batch, num_tokens=num_tokens):\n",
    "    batch_size = batch.size(0)\n",
    "    timesteps = batch.size(1) - 1\n",
    "    hidden_state = rnn.initial_state(batch_size)\n",
    "    full_logits = torch.zeros((batch_size, timesteps, num_tokens), dtype=torch.float32)\n",
    "    for i in range(timesteps):\n",
    "        hidden_state, logits = rnn(batch.transpose(1, 0)[i], hidden_state)\n",
    "        full_logits[:, i, :] = logits\n",
    "    return full_logits"
   ]
  },
  {
   "cell_type": "code",
   "execution_count": 18,
   "metadata": {},
   "outputs": [],
   "source": [
    "BATCH_SIZE = 256\n",
    "LR = 0.001\n",
    "model = VanillaRNN()\n",
    "optimizer = torch.optim.Adam(model.parameters(), lr=LR)\n",
    "criterion = nn.CrossEntropyLoss()"
   ]
  },
  {
   "cell_type": "markdown",
   "metadata": {},
   "source": [
    "Plot the loss function (axis X: number of epochs, axis Y: loss function)."
   ]
  },
  {
   "cell_type": "code",
   "execution_count": 19,
   "metadata": {
    "scrolled": true
   },
   "outputs": [
    {
     "data": {
      "image/png": "[encoded data removed]",
      "text/plain": [
       "<Figure size 432x288 with 1 Axes>"
      ]
     },
     "metadata": {
      "needs_background": "light"
     },
     "output_type": "display_data"
    },
    {
     "name": "stdout",
     "output_type": "stream",
     "text": [
      "Train loss: 0.41027519255876543\n"
     ]
    }
   ],
   "source": [
    "NUM_STEPS = 7000\n",
    "\n",
    "loss_history = np.zeros(NUM_STEPS, dtype=float)\n",
    "\n",
    "for i in range(NUM_STEPS):\n",
    "    batch = get_batch(BATCH_SIZE)\n",
    "    model_logits = RNNLoop(model, batch).reshape((-1, 39))\n",
    "    true_classes = batch[:, 1:].reshape(-1)\n",
    "    loss = criterion(model_logits, true_classes)\n",
    "    loss_history[i] = loss.item()\n",
    "    loss.backward()\n",
    "    nn.utils.clip_grad_norm_(model.parameters(), max_norm=10)\n",
    "    optimizer.step()\n",
    "    optimizer.zero_grad()\n",
    "    \n",
    "    if (i + 1) % 100 == 0:\n",
    "        clear_output(True)\n",
    "        plt.plot(loss_history[:i+1], label='train loss')\n",
    "        plt.legend()\n",
    "        plt.show()\n",
    "    \n",
    "print(f'Train loss: {loss_history[-20:].mean()}')"
   ]
  },
  {
   "cell_type": "code",
   "execution_count": 20,
   "metadata": {},
   "outputs": [],
   "source": [
    "def generate_sample(char_rnn, max_length=MAX_LENGTH, seed_phrase=' ', temperature=1):\n",
    "    char_rnn.eval()\n",
    "    phrase = seed_phrase\n",
    "    x_sequence = [token_to_idx[token] for token in seed_phrase]\n",
    "    x_sequence = torch.tensor([x_sequence], dtype=torch.int64).transpose(1, 0)\n",
    "    hidden_state = char_rnn.initial_state(1)\n",
    "    \n",
    "    with torch.no_grad():\n",
    "        for char in x_sequence:\n",
    "            hidden_state, logits = char_rnn(char, hidden_state)\n",
    "        \n",
    "        for _ in range(max_length - len(seed_phrase)):\n",
    "            probs = nn.Softmax(dim=1)(logits / temperature).numpy().flatten()\n",
    "            next_token_idx = np.random.choice(np.arange(num_tokens), p=probs)\n",
    "            phrase += idx_to_token[next_token_idx]\n",
    "            token_tensor = torch.tensor([next_token_idx], dtype=torch.int64)\n",
    "            hidden_state, logits = char_rnn(token_tensor, hidden_state)\n",
    "    \n",
    "    return phrase"
   ]
  },
  {
   "cell_type": "code",
   "execution_count": 21,
   "metadata": {},
   "outputs": [
    {
     "name": "stdout",
     "output_type": "stream",
     "text": [
      "which have belime the treass be glowy,\n",
      "the terms thy self at me:\n",
      "the base to guments that can say acqueittence stratgly merver\n",
      "and humble say de exchopit, but it fell abousth's intands me.\n"
     ]
    }
   ],
   "source": [
    "for i in range(4):\n",
    "    print(generate_sample(model, temperature=0.5, seed_phrase=' ').strip('\\a\\n '))"
   ]
  },
  {
   "cell_type": "markdown",
   "metadata": {},
   "source": [
    "### More poetic model\n",
    "\n",
    "Let's use LSTM instead of vanilla RNN and compare the results."
   ]
  },
  {
   "cell_type": "markdown",
   "metadata": {},
   "source": [
    "Plot the loss function of the number of epochs. Does the final loss become better?"
   ]
  },
  {
   "cell_type": "code",
   "execution_count": 22,
   "metadata": {},
   "outputs": [],
   "source": [
    "class LSTM(nn.Module):\n",
    "    def __init__(self, num_embeddings=num_tokens, embedding_dim=16, hidden_state_dim=128):\n",
    "        super().__init__()\n",
    "        self.emb = nn.Embedding(num_embeddings, embedding_dim)\n",
    "        self.recurrent = nn.LSTM(embedding_dim, hidden_state_dim, batch_first=True)\n",
    "        self.hidden_to_logits = nn.Linear(hidden_state_dim, num_embeddings)\n",
    "        \n",
    "    def forward(self, x, hidden_state=None):\n",
    "        out_hidden, state = self.recurrent(self.emb(x), hidden_state)\n",
    "        logits = self.hidden_to_logits(out_hidden)\n",
    "        return state, logits"
   ]
  },
  {
   "cell_type": "code",
   "execution_count": 23,
   "metadata": {},
   "outputs": [],
   "source": [
    "BATCH_SIZE = 256\n",
    "LR = 0.001\n",
    "model = LSTM()\n",
    "optimizer = torch.optim.Adam(model.parameters(), lr=LR)\n",
    "criterion = nn.CrossEntropyLoss()"
   ]
  },
  {
   "cell_type": "code",
   "execution_count": 25,
   "metadata": {},
   "outputs": [
    {
     "data": {
      "image/png": "[encoded data removed]",
      "text/plain": [
       "<Figure size 432x288 with 1 Axes>"
      ]
     },
     "metadata": {
      "needs_background": "light"
     },
     "output_type": "display_data"
    },
    {
     "name": "stdout",
     "output_type": "stream",
     "text": [
      "Train loss: 0.6390392363071442\n"
     ]
    }
   ],
   "source": [
    "NUM_STEPS = 7000\n",
    "\n",
    "loss_history = np.zeros(NUM_STEPS, dtype=float)\n",
    "\n",
    "for i in range(NUM_STEPS):\n",
    "    batch = get_batch(BATCH_SIZE)\n",
    "    model_logits = model(batch)[1][:, :-1].reshape((-1, 39))\n",
    "    true_classes = batch[:, 1:].reshape(-1)\n",
    "    loss = criterion(model_logits, true_classes)\n",
    "    loss_history[i] = loss.item()\n",
    "    loss.backward()\n",
    "    nn.utils.clip_grad_norm_(model.parameters(), max_norm=10)\n",
    "    optimizer.step()\n",
    "    optimizer.zero_grad()\n",
    "    \n",
    "    if (i + 1) % 100 == 0:\n",
    "        clear_output(True)\n",
    "        plt.plot(loss_history[:i+1], label='train loss')\n",
    "        plt.legend()\n",
    "        plt.show()\n",
    "    \n",
    "print(f'Train loss: {loss_history[-20:].mean()}')"
   ]
  },
  {
   "cell_type": "markdown",
   "metadata": {},
   "source": [
    "Generate text using the trained net with different `temperature` parameter: `[0.1, 0.2, 0.5, 1.0, 2.0]`.\n",
    "\n",
    "Evaluate the results visually, try to interpret them."
   ]
  },
  {
   "cell_type": "code",
   "execution_count": 26,
   "metadata": {},
   "outputs": [],
   "source": [
    "def generate_sample(rnn_model, max_length=MAX_LENGTH, seed_phrase=' ', temperature=1):\n",
    "    rnn_model.eval()\n",
    "    phrase = seed_phrase\n",
    "    x_sequence = [[token_to_idx[token]] for token in seed_phrase]\n",
    "    x_sequence = torch.tensor([x_sequence], dtype=torch.int64).transpose(1, 0)\n",
    "    hidden_state = None\n",
    "    \n",
    "    with torch.no_grad():\n",
    "        for char in x_sequence:\n",
    "            hidden_state, logits = rnn_model(char, hidden_state)\n",
    "            \n",
    "        for _ in range(max_length - len(seed_phrase)):\n",
    "            probs = nn.Softmax(dim=-1)(logits / temperature).numpy().flatten()\n",
    "            next_token_idx = np.random.choice(np.arange(num_tokens), p=probs)\n",
    "            phrase += idx_to_token[next_token_idx]\n",
    "            token_tensor = torch.tensor([[next_token_idx]], dtype=torch.int64)\n",
    "            hidden_state, logits = rnn_model(token_tensor, hidden_state)\n",
    "    \n",
    "    return phrase"
   ]
  },
  {
   "cell_type": "code",
   "execution_count": 27,
   "metadata": {},
   "outputs": [
    {
     "name": "stdout",
     "output_type": "stream",
     "text": [
      "Temperature: 0.1\n",
      "the say the eyes to my see thee i seen,\n",
      "and therefore doth hadn thy self the worst be;\n",
      "the beauty of thy self are despise,\n",
      "and therefore doth hadn thy self the worst be;\n",
      "\n",
      "Temperature: 0.2\n",
      "then shall to my strongly thousblt me not state,\n",
      "and in the bett in my self alone,\n",
      "the world constancy of thy beauty's love,\n",
      "and so the truth of former doth give;\n",
      "\n",
      "Temperature: 0.5\n",
      "the rued of mother's proviened meads.\n",
      "for whose streasures of their days so deceivest\n",
      "that in the bloody with thy poor self,\n",
      "and to the strength on thee, and they growing all.\n",
      "\n",
      "Temperature: 1\n",
      "i much cleshs are to time of mine eyes.\n",
      "will is forting hadver no longer muge;\n",
      "by are i altworn shope, that thy love should hadvy?\n",
      "and in by his control; to hearts,\n",
      "\n",
      "Temperature: 2\n",
      "that shall in briev, adly wrillst us'sterit,\n",
      "o! chunlify im thee, and,el ic my kins own smou\u0007l,\n",
      "remed,erfse'\u0007\u0007\u0007\u0007\u0007\u0007e\u0007d\u0007--gajt\n",
      "\u0007m\n",
      "'y gilds! that scepppyater imellovidif,\n",
      "\n"
     ]
    }
   ],
   "source": [
    "# Text generation with different temperature values here\n",
    "temperatures = [0.1, 0.2, 0.5, 1, 2]\n",
    "\n",
    "for temp in temperatures:\n",
    "    print(f'Temperature: {temp}')\n",
    "    for i in range(4):\n",
    "        print(generate_sample(model, temperature=temp, seed_phrase=' ').strip('\\a\\n '))\n",
    "    print()"
   ]
  },
  {
   "cell_type": "markdown",
   "metadata": {},
   "source": [
    "Lower temperatures give lines more similar to each other. However, higher temperatures make text too random. \n",
    "I also tried to increase the hidden state dimensionality for LSTM model. At first glance, more complicated model works better, but actually it just copies lines from the train set instead of generating its own text."
   ]
  },
  {
   "cell_type": "markdown",
   "metadata": {},
   "source": [
    "### Saving and loading models"
   ]
  },
  {
   "cell_type": "markdown",
   "metadata": {},
   "source": [
    "Save the model to the disk, then load it and generate text. Examples are available [here](https://pytorch.org/tutorials/beginner/saving_loading_models.html])."
   ]
  },
  {
   "cell_type": "code",
   "execution_count": 28,
   "metadata": {},
   "outputs": [],
   "source": [
    "PATH = 'lstm.pth'"
   ]
  },
  {
   "cell_type": "code",
   "execution_count": 29,
   "metadata": {},
   "outputs": [
    {
     "name": "stderr",
     "output_type": "stream",
     "text": [
      "/home/uladzislaw/anaconda3/envs/dl_py38/lib/python3.8/site-packages/torch/serialization.py:359: UserWarning: Couldn't retrieve source code for container of type LSTM. It won't be checked for correctness upon loading.\n",
      "  warnings.warn(\"Couldn't retrieve source code for container of \"\n"
     ]
    }
   ],
   "source": [
    "# Saving and loading code here\n",
    "torch.save(model, PATH)"
   ]
  },
  {
   "cell_type": "code",
   "execution_count": 30,
   "metadata": {},
   "outputs": [],
   "source": [
    "model = torch.load(PATH)"
   ]
  },
  {
   "cell_type": "code",
   "execution_count": 31,
   "metadata": {},
   "outputs": [
    {
     "name": "stdout",
     "output_type": "stream",
     "text": [
      "which my death, the could worst to thy heart.\n",
      "when i what you as the world is despian;\n",
      "and there rebloy shall though to me remow'd;\n",
      "to fair yout thee i cruse of such a dead;\n"
     ]
    }
   ],
   "source": [
    "for i in range(4):\n",
    "    print(generate_sample(model, temperature=0.5, seed_phrase=' ').strip('\\a\\n '))"
   ]
  },
  {
   "cell_type": "markdown",
   "metadata": {},
   "source": [
    "### References\n",
    "1. <a href='http://karpathy.github.io/2015/05/21/rnn-effectiveness/'> Andrew Karpathy blog post about RNN. </a> \n",
    "There are several examples of genration: Shakespeare texts, Latex formulas, Linux Sourse Code and children names.\n",
    "2. <a href='https://github.com/karpathy/char-rnn'> Repo with char-rnn code </a>\n",
    "3. Cool repo with PyTorch examples: [link](https://github.com/spro/practical-pytorch)"
   ]
  }
 ],
 "metadata": {
  "anaconda-cloud": {},
  "kernelspec": {
   "display_name": "Python 3",
   "language": "python",
   "name": "python3"
  },
  "language_info": {
   "codemirror_mode": {
    "name": "ipython",
    "version": 3
   },
   "file_extension": ".py",
   "mimetype": "text/x-python",
   "name": "python",
   "nbconvert_exporter": "python",
   "pygments_lexer": "ipython3",
   "version": "3.8.1"
  }
 },
 "nbformat": 4,
 "nbformat_minor": 2
}
